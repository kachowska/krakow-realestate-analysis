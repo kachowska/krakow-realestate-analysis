{
  "cells": [
    {
      "cell_type": "markdown",
      "metadata": {},
      "source": [
        "# EDA \u2014 Krak\u00f3w Property Market\n",
        "\n",
        "This starter notebook assumes a CSV at `data/processed/krakow_listings.csv`.\n",
        "Fill `data/raw/` with your sources and run `python src/data_prep.py` first.\n"
      ]
    },
    {
      "cell_type": "code",
      "execution_count": null,
      "metadata": {},
      "outputs": [],
      "source": [
        "import pandas as pd\n",
        "import matplotlib.pyplot as plt\n",
        "df = pd.read_csv('../data/processed/krakow_listings.csv')\n",
        "df.head()"
      ]
    },
    {
      "cell_type": "code",
      "execution_count": null,
      "metadata": {},
      "outputs": [],
      "source": [
        "df.describe(include='all').T"
      ]
    },
    {
      "cell_type": "code",
      "execution_count": null,
      "metadata": {},
      "outputs": [],
      "source": [
        "for col in ['price','size_m2']:\n",
        "    if col in df.columns:\n",
        "        df[col].plot(kind='hist', bins=50, alpha=0.7)\n",
        "        plt.title(col)\n",
        "        plt.show()"
      ]
    }
  ],
  "metadata": {
    "kernelspec": {
      "display_name": "Python 3",
      "language": "python",
      "name": "python3"
    },
    "language_info": {
      "name": "python",
      "version": "3.x"
    }
  },
  "nbformat": 4,
  "nbformat_minor": 5
}